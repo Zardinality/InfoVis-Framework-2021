{
 "cells": [
  {
   "cell_type": "markdown",
   "metadata": {},
   "source": [
    "# OmniArt dataset insights"
   ]
  },
  {
   "cell_type": "code",
   "execution_count": null,
   "metadata": {},
   "outputs": [],
   "source": [
    "import pandas as pd\n",
    "import numpy as nd\n",
    "import matplotlib.pyplot as plt"
   ]
  },
  {
   "cell_type": "code",
   "execution_count": null,
   "metadata": {},
   "outputs": [],
   "source": [
    "# Load the dataset\n",
    "data_root = \"data/omniart_v3_datadump.csv\"\n",
    "dataset = pd.read_csv(data_root)"
   ]
  },
  {
   "cell_type": "code",
   "execution_count": null,
   "metadata": {},
   "outputs": [],
   "source": [
    "# List all columns of the dataset and corresponding counts\n",
    "dataset.count()"
   ]
  },
  {
   "cell_type": "markdown",
   "metadata": {},
   "source": [
    "### Artist information"
   ]
  },
  {
   "cell_type": "code",
   "execution_count": null,
   "metadata": {},
   "outputs": [],
   "source": [
    "# Combine the first and last names to obtain an artist_full_name\n",
    "dataset['artist_full_name'] = (dataset['artist_first_name'] + ' ' + dataset['artist_last_name'])\n",
    "print(f\"Unique artists: {dataset['artist_full_name'].nunique()}\")      "
   ]
  },
  {
   "cell_type": "code",
   "execution_count": null,
   "metadata": {},
   "outputs": [],
   "source": [
    "# Get the average number of works made by an artist\n",
    "print(f\"Average number of works per artist: {dataset['id'].count() / dataset['artist_full_name'].nunique():.2f}\")"
   ]
  },
  {
   "cell_type": "markdown",
   "metadata": {},
   "source": [
    "### Art type information"
   ]
  },
  {
   "cell_type": "code",
   "execution_count": null,
   "metadata": {},
   "outputs": [],
   "source": [
    "unique_types = dataset['general_type'].unique()\n",
    "print(f\"Unique types: {unique_types}\")"
   ]
  },
  {
   "cell_type": "markdown",
   "metadata": {},
   "source": [
    "### Art year distribution"
   ]
  },
  {
   "cell_type": "code",
   "execution_count": null,
   "metadata": {},
   "outputs": [],
   "source": [
    "# Convert creation_year to numeric data\n",
    "numeric_creation_year = pd.to_numeric(dataset['creation_year'], errors='coerce')\n",
    "# remove NaN\n",
    "numeric_creation_year.dropna(inplace=True)\n",
    "\n",
    "# Note that I excluded works from before -2000 in this plot\n",
    "start_year = 1500\n",
    "end_year = 2020\n",
    "bins=100\n",
    "interval = (end_year - start_year) / bins\n",
    "\n",
    "plt.hist(numeric_creation_year, range=(start_year, end_year), bins=bins)\n",
    "plt.title(f\"Number works per bin of {interval} years from {start_year} to {end_year}\")\n",
    "plt.xlabel('year')\n",
    "plt.ylabel(f\"number of works\")\n",
    "plt.show()"
   ]
  }
 ],
 "metadata": {
  "kernelspec": {
   "display_name": "Python 3",
   "language": "python",
   "name": "python3"
  },
  "language_info": {
   "codemirror_mode": {
    "name": "ipython",
    "version": 3
   },
   "file_extension": ".py",
   "mimetype": "text/x-python",
   "name": "python",
   "nbconvert_exporter": "python",
   "pygments_lexer": "ipython3",
   "version": "3.6.7"
  }
 },
 "nbformat": 4,
 "nbformat_minor": 2
}
